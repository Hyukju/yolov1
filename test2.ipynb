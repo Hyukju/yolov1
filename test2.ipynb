{
 "cells": [
  {
   "cell_type": "code",
   "execution_count": 2,
   "metadata": {},
   "outputs": [
    {
     "name": "stdout",
     "output_type": "stream",
     "text": [
      "Model: \"vgg16\"\n",
      "_________________________________________________________________\n",
      "Layer (type)                 Output Shape              Param #   \n",
      "=================================================================\n",
      "input_2 (InputLayer)         [(None, 224, 224, 3)]     0         \n",
      "_________________________________________________________________\n",
      "block1_conv1 (Conv2D)        (None, 224, 224, 64)      1792      \n",
      "_________________________________________________________________\n",
      "block1_conv2 (Conv2D)        (None, 224, 224, 64)      36928     \n",
      "_________________________________________________________________\n",
      "block1_pool (MaxPooling2D)   (None, 112, 112, 64)      0         \n",
      "_________________________________________________________________\n",
      "block2_conv1 (Conv2D)        (None, 112, 112, 128)     73856     \n",
      "_________________________________________________________________\n",
      "block2_conv2 (Conv2D)        (None, 112, 112, 128)     147584    \n",
      "_________________________________________________________________\n",
      "block2_pool (MaxPooling2D)   (None, 56, 56, 128)       0         \n",
      "_________________________________________________________________\n",
      "block3_conv1 (Conv2D)        (None, 56, 56, 256)       295168    \n",
      "_________________________________________________________________\n",
      "block3_conv2 (Conv2D)        (None, 56, 56, 256)       590080    \n",
      "_________________________________________________________________\n",
      "block3_conv3 (Conv2D)        (None, 56, 56, 256)       590080    \n",
      "_________________________________________________________________\n",
      "block3_pool (MaxPooling2D)   (None, 28, 28, 256)       0         \n",
      "_________________________________________________________________\n",
      "block4_conv1 (Conv2D)        (None, 28, 28, 512)       1180160   \n",
      "_________________________________________________________________\n",
      "block4_conv2 (Conv2D)        (None, 28, 28, 512)       2359808   \n",
      "_________________________________________________________________\n",
      "block4_conv3 (Conv2D)        (None, 28, 28, 512)       2359808   \n",
      "_________________________________________________________________\n",
      "block4_pool (MaxPooling2D)   (None, 14, 14, 512)       0         \n",
      "_________________________________________________________________\n",
      "block5_conv1 (Conv2D)        (None, 14, 14, 512)       2359808   \n",
      "_________________________________________________________________\n",
      "block5_conv2 (Conv2D)        (None, 14, 14, 512)       2359808   \n",
      "_________________________________________________________________\n",
      "block5_conv3 (Conv2D)        (None, 14, 14, 512)       2359808   \n",
      "_________________________________________________________________\n",
      "block5_pool (MaxPooling2D)   (None, 7, 7, 512)         0         \n",
      "=================================================================\n",
      "Total params: 14,714,688\n",
      "Trainable params: 0\n",
      "Non-trainable params: 14,714,688\n",
      "_________________________________________________________________\n",
      "Model: \"sequential_1\"\n",
      "_________________________________________________________________\n",
      "Layer (type)                 Output Shape              Param #   \n",
      "=================================================================\n",
      "vgg16 (Functional)           (None, 7, 7, 512)         14714688  \n",
      "_________________________________________________________________\n",
      "flatten_1 (Flatten)          (None, 25088)             0         \n",
      "_________________________________________________________________\n",
      "dense_2 (Dense)              (None, 4096)              102764544 \n",
      "_________________________________________________________________\n",
      "leaky_re_lu_2 (LeakyReLU)    (None, 4096)              0         \n",
      "_________________________________________________________________\n",
      "dense_3 (Dense)              (None, 637)               2609789   \n",
      "_________________________________________________________________\n",
      "leaky_re_lu_3 (LeakyReLU)    (None, 637)               0         \n",
      "_________________________________________________________________\n",
      "reshape_1 (Reshape)          (None, 7, 7, 13)          0         \n",
      "=================================================================\n",
      "Total params: 120,089,021\n",
      "Trainable params: 105,374,333\n",
      "Non-trainable params: 14,714,688\n",
      "_________________________________________________________________\n"
     ]
    }
   ],
   "source": [
    "import yolov1\n",
    "\n",
    "yolov1 = yolov1.YOLOV1()\n",
    "model = yolov1.build_model_vgg16()\n",
    "model.load_weights('dog_cat_duck.h5')\n"
   ]
  },
  {
   "cell_type": "code",
   "execution_count": 8,
   "metadata": {},
   "outputs": [],
   "source": [
    "import data_loader\n",
    "\n",
    "test_img_dir = 'D:\\\\projects_test\\\\yolov1\\\\datasets\\\\dog_cat_duck\\\\valid '\n",
    "x_test, y_test = data_loader.load_dataset(test_img_dir, (224,224), 3)"
   ]
  },
  {
   "cell_type": "code",
   "execution_count": 9,
   "metadata": {},
   "outputs": [],
   "source": [
    "predict = model.predict(x_test[:10])"
   ]
  },
  {
   "cell_type": "code",
   "execution_count": 25,
   "metadata": {},
   "outputs": [],
   "source": [
    "import numpy as np \n",
    "import cv2\n",
    "\n",
    "total = len(predict)\n",
    "\n",
    "rows, cols = yolov1.height, yolov1.width \n",
    "\n",
    "labels = ['dog', 'cat', 'duck']\n",
    "\n",
    "for i in range(total):\n",
    "    img = (x_test[i]).copy()\n",
    "    features = predict[i]\n",
    "    for j in range(1):\n",
    "\n",
    "        if j == 0:\n",
    "            confidence = features[...,4]\n",
    "            bbox = features[...,0:4]\n",
    "            box_color = (0,255,0)\n",
    "        else:\n",
    "            confidence = features[...,9]\n",
    "            bbox = features[...,5:9]\n",
    "            box_color = (0,0,255)\n",
    "        cl_list = features[...,10:]\n",
    " \n",
    "        # print()\n",
    "        # cl = np.argmax(features[10:2])\n",
    "        count = 0\n",
    "        for m in range(7):\n",
    "            for n in range(7):\n",
    "                if confidence[m,n] > 0.5:\n",
    "                    cl = labels[np.argmax(cl_list[m,n])]\n",
    "                    \n",
    "                    count += 1\n",
    "                    x = (bbox[m,n,0] + n) /6.\n",
    "                    y = (bbox[m,n,1] + m) /6.\n",
    "                    w = bbox[m,n,2] \n",
    "                    h = bbox[m,n,3] \n",
    "\n",
    "                    pt1 = (int((x - w/2) * cols), int((y - h/2) * rows))\n",
    "                    pt2 = (int((x + w/2) * cols), int((y + h/2) * rows))\n",
    "                    cv2.rectangle(img, pt1, pt2, box_color, 1)\n",
    "                    cv2.putText(img, cl, pt2, cv2.FONT_HERSHEY_SIMPLEX, 0.5, (255,255,255),1)\n",
    "                    \n",
    "    cv2.namedWindow('img', 0)\n",
    "    cv2.imshow('img', img)\n",
    "    cv2.waitKey(0)\n",
    "\n",
    "cv2.destroyAllWindows()"
   ]
  },
  {
   "cell_type": "code",
   "execution_count": 12,
   "metadata": {},
   "outputs": [
    {
     "data": {
      "text/plain": [
       "141"
      ]
     },
     "execution_count": 12,
     "metadata": {},
     "output_type": "execute_result"
    }
   ],
   "source": [
    "np.argmax(predict[0,:,:,10:])"
   ]
  }
 ],
 "metadata": {
  "interpreter": {
   "hash": "52c8d4d59e7a618e1f81f7510c3cb50762aec2695db6ad2185f597fbc98dd2cd"
  },
  "kernelspec": {
   "display_name": "Python 3.7.12 ('keras')",
   "language": "python",
   "name": "python3"
  },
  "language_info": {
   "codemirror_mode": {
    "name": "ipython",
    "version": 3
   },
   "file_extension": ".py",
   "mimetype": "text/x-python",
   "name": "python",
   "nbconvert_exporter": "python",
   "pygments_lexer": "ipython3",
   "version": "3.7.12"
  },
  "orig_nbformat": 4
 },
 "nbformat": 4,
 "nbformat_minor": 2
}
