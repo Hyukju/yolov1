{
 "cells": [
  {
   "cell_type": "code",
   "execution_count": 1,
   "metadata": {},
   "outputs": [],
   "source": [
    "import cv2\n",
    "import os \n",
    "import numpy as  np "
   ]
  },
  {
   "cell_type": "code",
   "execution_count": 36,
   "metadata": {},
   "outputs": [],
   "source": [
    "IMG_FILE_EXTS = ['.png', '.jpg', '.tif', '.tiff', '.bmp']\n",
    "\n",
    "def load_dataset(img_dir, resize_shape=(224,224), num_classes=1, num_bboxes=2):\n",
    "    # resize_shape = (width, height)\n",
    "    # class info : num_bboxes * 5(= p, x, y, wi, h ) + num_classes\n",
    "    length_cls_info = num_bboxes * 5 + num_classes\n",
    "\n",
    "    x_train = [] \n",
    "    y_train = []\n",
    "\n",
    "    # load file lists\n",
    "    file_list = os.listdir(img_dir)\n",
    "    img_file_list = [os.path.join(img_dir, x) for x in file_list if os.path.splitext(x)[1].lower() in IMG_FILE_EXTS]\n",
    "\n",
    "    # check image file 과 label file 수 확인 \n",
    "    total = len(img_file_list)\n",
    "\n",
    "    x_train = np.zeros((total, resize_shape[1], resize_shape[0], 3), dtype='float32')    \n",
    "    y_train = np.zeros((total, 7,7, length_cls_info), dtype='float32')    \n",
    "    # load image files \n",
    "    for i, img_file in enumerate(img_file_list):\n",
    "        # decompose filename and extention\n",
    "        filename, _ = os.path.splitext(img_file)        \n",
    "        label_file = filename + '.txt'\n",
    "       \n",
    "        # read image, resize and bgr->rgb\n",
    "        img = resize_image(img_file, resize_shape)\n",
    "        # load labels\n",
    "        label_list = read_label_file(label_file)\n",
    "    \n",
    "        # convert labels -> yolo features = ?x7x7x(5xnum_bboxes + num_classes) \n",
    "        yolo_feature = np.zeros((7,7,length_cls_info), dtype='float32')\n",
    "        yolo_feature = convert_bbox_info_to_yolo_feature(yolo_feature, label_list)\n",
    "\n",
    "        x_train[i] = img\n",
    "        y_train[i] = yolo_feature\n",
    "        \n",
    "    return x_train, y_train\n",
    "\n",
    "def read_label_file(label_file):\n",
    "    bbox_info_list = []\n",
    "\n",
    "    with open(label_file, 'r') as f:\n",
    "        lines = f.readlines()\n",
    "        for line in lines:\n",
    "            bbox_info = list(map(float, line.split()))\n",
    "            bbox_info_list.append(bbox_info)\n",
    "\n",
    "    return bbox_info_list\n",
    "\n",
    "def resize_image(filename, resize_shape=(224,224)):\n",
    "    img = cv2.imread(filename).astype('float32') / 255.0\n",
    "    img = cv2.cvtColor(img, cv2.COLOR_BGR2RGB)\n",
    "    img = cv2.resize(img, dsize=resize_shape)\n",
    "    return img\n",
    "\n",
    "\n",
    "def convert_bbox_info_to_yolo_feature(yolo_feature, label_list):\n",
    "    for label in label_list:\n",
    "        i_x = int(label[1] * 6)\n",
    "        i_y = int(label[2] * 6)\n",
    "        x = label[1] * 6 - i_x\n",
    "        y = label[2] * 6- i_y\n",
    "        w = label[3]\n",
    "        h = label[4]\n",
    "        class_id = label[0]\n",
    "        bbox = [1., x, y, w, h]\n",
    "        # bbox info\n",
    "        yolo_feature[i_y,i_x,:5] = bbox\n",
    "        # class info \n",
    "        yolo_feature[i_y,i_x, 10 + int(class_id)] = 1.\n",
    "\n",
    "    return yolo_feature\n",
    "    \n"
   ]
  },
  {
   "cell_type": "code",
   "execution_count": 37,
   "metadata": {},
   "outputs": [],
   "source": [
    "x_train, y_train = load_dataset('./datasets/dog_cat_duck/',num_classes=3)"
   ]
  }
 ],
 "metadata": {
  "interpreter": {
   "hash": "29ac436d50a9cffc1b849af796538ca6ca6988795de589979029fc221a7628d9"
  },
  "kernelspec": {
   "display_name": "Python 3.9.7 ('base')",
   "language": "python",
   "name": "python3"
  },
  "language_info": {
   "codemirror_mode": {
    "name": "ipython",
    "version": 3
   },
   "file_extension": ".py",
   "mimetype": "text/x-python",
   "name": "python",
   "nbconvert_exporter": "python",
   "pygments_lexer": "ipython3",
   "version": "3.8.8"
  },
  "orig_nbformat": 4
 },
 "nbformat": 4,
 "nbformat_minor": 2
}
